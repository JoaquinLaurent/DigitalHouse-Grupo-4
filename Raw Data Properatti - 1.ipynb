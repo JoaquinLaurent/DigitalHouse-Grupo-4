{
 "cells": [
  {
   "cell_type": "code",
   "execution_count": 1,
   "id": "ceff9e1b",
   "metadata": {},
   "outputs": [],
   "source": [
    "#Importo las librerias que vamos a utilizar:\n",
    "import pandas as pd\n",
    "import numpy as np\n",
    "\n"
   ]
  },
  {
   "cell_type": "code",
   "execution_count": 2,
   "id": "cb30992f",
   "metadata": {},
   "outputs": [],
   "source": [
    "#Dataset: Analizo las columnas y filas"
   ]
  },
  {
   "cell_type": "code",
   "execution_count": 3,
   "id": "9bd03024",
   "metadata": {},
   "outputs": [],
   "source": [
    "raw_data = pd.read_csv(\"../Data/properatti.csv\", sep=\",\")"
   ]
  },
  {
   "cell_type": "code",
   "execution_count": 4,
   "id": "d23d09f9",
   "metadata": {},
   "outputs": [
    {
     "data": {
      "text/html": [
       "<div>\n",
       "<style scoped>\n",
       "    .dataframe tbody tr th:only-of-type {\n",
       "        vertical-align: middle;\n",
       "    }\n",
       "\n",
       "    .dataframe tbody tr th {\n",
       "        vertical-align: top;\n",
       "    }\n",
       "\n",
       "    .dataframe thead th {\n",
       "        text-align: right;\n",
       "    }\n",
       "</style>\n",
       "<table border=\"1\" class=\"dataframe\">\n",
       "  <thead>\n",
       "    <tr style=\"text-align: right;\">\n",
       "      <th></th>\n",
       "      <th>Unnamed: 0</th>\n",
       "      <th>operation</th>\n",
       "      <th>property_type</th>\n",
       "      <th>place_name</th>\n",
       "      <th>place_with_parent_names</th>\n",
       "      <th>country_name</th>\n",
       "      <th>state_name</th>\n",
       "      <th>geonames_id</th>\n",
       "      <th>lat-lon</th>\n",
       "      <th>lat</th>\n",
       "      <th>...</th>\n",
       "      <th>surface_covered_in_m2</th>\n",
       "      <th>price_usd_per_m2</th>\n",
       "      <th>price_per_m2</th>\n",
       "      <th>floor</th>\n",
       "      <th>rooms</th>\n",
       "      <th>expenses</th>\n",
       "      <th>properati_url</th>\n",
       "      <th>description</th>\n",
       "      <th>title</th>\n",
       "      <th>image_thumbnail</th>\n",
       "    </tr>\n",
       "  </thead>\n",
       "  <tbody>\n",
       "    <tr>\n",
       "      <th>0</th>\n",
       "      <td>0</td>\n",
       "      <td>sell</td>\n",
       "      <td>PH</td>\n",
       "      <td>Mataderos</td>\n",
       "      <td>|Argentina|Capital Federal|Mataderos|</td>\n",
       "      <td>Argentina</td>\n",
       "      <td>Capital Federal</td>\n",
       "      <td>3430787.0</td>\n",
       "      <td>-34.6618237,-58.5088387</td>\n",
       "      <td>-34.661824</td>\n",
       "      <td>...</td>\n",
       "      <td>40.0</td>\n",
       "      <td>1127.272727</td>\n",
       "      <td>1550.000000</td>\n",
       "      <td>NaN</td>\n",
       "      <td>NaN</td>\n",
       "      <td>NaN</td>\n",
       "      <td>http://www.properati.com.ar/15bo8_venta_ph_mat...</td>\n",
       "      <td>2 AMBIENTES TIPO CASA PLANTA BAJA POR PASILLO,...</td>\n",
       "      <td>2 AMB TIPO CASA SIN EXPENSAS EN PB</td>\n",
       "      <td>https://thumbs4.properati.com/8/BluUYiHJLhgIIK...</td>\n",
       "    </tr>\n",
       "    <tr>\n",
       "      <th>1</th>\n",
       "      <td>1</td>\n",
       "      <td>sell</td>\n",
       "      <td>apartment</td>\n",
       "      <td>La Plata</td>\n",
       "      <td>|Argentina|Bs.As. G.B.A. Zona Sur|La Plata|</td>\n",
       "      <td>Argentina</td>\n",
       "      <td>Bs.As. G.B.A. Zona Sur</td>\n",
       "      <td>3432039.0</td>\n",
       "      <td>-34.9038831,-57.9643295</td>\n",
       "      <td>-34.903883</td>\n",
       "      <td>...</td>\n",
       "      <td>NaN</td>\n",
       "      <td>NaN</td>\n",
       "      <td>NaN</td>\n",
       "      <td>NaN</td>\n",
       "      <td>NaN</td>\n",
       "      <td>NaN</td>\n",
       "      <td>http://www.properati.com.ar/15bob_venta_depart...</td>\n",
       "      <td>Venta de departamento en décimo piso al frente...</td>\n",
       "      <td>VENTA Depto 2 dorm. a estrenar 7 e/ 36 y 37   ...</td>\n",
       "      <td>https://thumbs4.properati.com/7/ikpVBu2ztHA7jv...</td>\n",
       "    </tr>\n",
       "    <tr>\n",
       "      <th>2</th>\n",
       "      <td>2</td>\n",
       "      <td>sell</td>\n",
       "      <td>apartment</td>\n",
       "      <td>Mataderos</td>\n",
       "      <td>|Argentina|Capital Federal|Mataderos|</td>\n",
       "      <td>Argentina</td>\n",
       "      <td>Capital Federal</td>\n",
       "      <td>3430787.0</td>\n",
       "      <td>-34.6522615,-58.5229825</td>\n",
       "      <td>-34.652262</td>\n",
       "      <td>...</td>\n",
       "      <td>55.0</td>\n",
       "      <td>1309.090909</td>\n",
       "      <td>1309.090909</td>\n",
       "      <td>NaN</td>\n",
       "      <td>NaN</td>\n",
       "      <td>NaN</td>\n",
       "      <td>http://www.properati.com.ar/15bod_venta_depart...</td>\n",
       "      <td>2 AMBIENTES 3ER PISO LATERAL LIVING COMEDOR AM...</td>\n",
       "      <td>2 AMB 3ER PISO CON ASCENSOR APTO CREDITO</td>\n",
       "      <td>https://thumbs4.properati.com/5/SXKr34F_IwG3W_...</td>\n",
       "    </tr>\n",
       "    <tr>\n",
       "      <th>3</th>\n",
       "      <td>3</td>\n",
       "      <td>sell</td>\n",
       "      <td>PH</td>\n",
       "      <td>Liniers</td>\n",
       "      <td>|Argentina|Capital Federal|Liniers|</td>\n",
       "      <td>Argentina</td>\n",
       "      <td>Capital Federal</td>\n",
       "      <td>3431333.0</td>\n",
       "      <td>-34.6477969,-58.5164244</td>\n",
       "      <td>-34.647797</td>\n",
       "      <td>...</td>\n",
       "      <td>NaN</td>\n",
       "      <td>NaN</td>\n",
       "      <td>NaN</td>\n",
       "      <td>NaN</td>\n",
       "      <td>NaN</td>\n",
       "      <td>NaN</td>\n",
       "      <td>http://www.properati.com.ar/15boh_venta_ph_lin...</td>\n",
       "      <td>PH 3 ambientes con patio. Hay 3 deptos en lote...</td>\n",
       "      <td>PH 3 amb. cfte. reciclado</td>\n",
       "      <td>https://thumbs4.properati.com/3/DgIfX-85Mog5SP...</td>\n",
       "    </tr>\n",
       "    <tr>\n",
       "      <th>4</th>\n",
       "      <td>4</td>\n",
       "      <td>sell</td>\n",
       "      <td>apartment</td>\n",
       "      <td>Centro</td>\n",
       "      <td>|Argentina|Buenos Aires Costa Atlántica|Mar de...</td>\n",
       "      <td>Argentina</td>\n",
       "      <td>Buenos Aires Costa Atlántica</td>\n",
       "      <td>3435548.0</td>\n",
       "      <td>-38.0026256,-57.5494468</td>\n",
       "      <td>-38.002626</td>\n",
       "      <td>...</td>\n",
       "      <td>35.0</td>\n",
       "      <td>1828.571429</td>\n",
       "      <td>1828.571429</td>\n",
       "      <td>NaN</td>\n",
       "      <td>NaN</td>\n",
       "      <td>NaN</td>\n",
       "      <td>http://www.properati.com.ar/15bok_venta_depart...</td>\n",
       "      <td>DEPARTAMENTO CON FANTÁSTICA ILUMINACIÓN NATURA...</td>\n",
       "      <td>DEPTO 2 AMB AL CONTRAFRENTE ZONA CENTRO/PLAZA ...</td>\n",
       "      <td>https://thumbs4.properati.com/5/xrRqlNcSI_vs-f...</td>\n",
       "    </tr>\n",
       "  </tbody>\n",
       "</table>\n",
       "<p>5 rows × 26 columns</p>\n",
       "</div>"
      ],
      "text/plain": [
       "   Unnamed: 0 operation property_type place_name  \\\n",
       "0           0      sell            PH  Mataderos   \n",
       "1           1      sell     apartment   La Plata   \n",
       "2           2      sell     apartment  Mataderos   \n",
       "3           3      sell            PH    Liniers   \n",
       "4           4      sell     apartment     Centro   \n",
       "\n",
       "                             place_with_parent_names country_name  \\\n",
       "0              |Argentina|Capital Federal|Mataderos|    Argentina   \n",
       "1        |Argentina|Bs.As. G.B.A. Zona Sur|La Plata|    Argentina   \n",
       "2              |Argentina|Capital Federal|Mataderos|    Argentina   \n",
       "3                |Argentina|Capital Federal|Liniers|    Argentina   \n",
       "4  |Argentina|Buenos Aires Costa Atlántica|Mar de...    Argentina   \n",
       "\n",
       "                     state_name  geonames_id                  lat-lon  \\\n",
       "0               Capital Federal    3430787.0  -34.6618237,-58.5088387   \n",
       "1        Bs.As. G.B.A. Zona Sur    3432039.0  -34.9038831,-57.9643295   \n",
       "2               Capital Federal    3430787.0  -34.6522615,-58.5229825   \n",
       "3               Capital Federal    3431333.0  -34.6477969,-58.5164244   \n",
       "4  Buenos Aires Costa Atlántica    3435548.0  -38.0026256,-57.5494468   \n",
       "\n",
       "         lat  ...  surface_covered_in_m2  price_usd_per_m2 price_per_m2  \\\n",
       "0 -34.661824  ...                   40.0       1127.272727  1550.000000   \n",
       "1 -34.903883  ...                    NaN               NaN          NaN   \n",
       "2 -34.652262  ...                   55.0       1309.090909  1309.090909   \n",
       "3 -34.647797  ...                    NaN               NaN          NaN   \n",
       "4 -38.002626  ...                   35.0       1828.571429  1828.571429   \n",
       "\n",
       "   floor  rooms  expenses                                      properati_url  \\\n",
       "0    NaN    NaN       NaN  http://www.properati.com.ar/15bo8_venta_ph_mat...   \n",
       "1    NaN    NaN       NaN  http://www.properati.com.ar/15bob_venta_depart...   \n",
       "2    NaN    NaN       NaN  http://www.properati.com.ar/15bod_venta_depart...   \n",
       "3    NaN    NaN       NaN  http://www.properati.com.ar/15boh_venta_ph_lin...   \n",
       "4    NaN    NaN       NaN  http://www.properati.com.ar/15bok_venta_depart...   \n",
       "\n",
       "                                         description  \\\n",
       "0  2 AMBIENTES TIPO CASA PLANTA BAJA POR PASILLO,...   \n",
       "1  Venta de departamento en décimo piso al frente...   \n",
       "2  2 AMBIENTES 3ER PISO LATERAL LIVING COMEDOR AM...   \n",
       "3  PH 3 ambientes con patio. Hay 3 deptos en lote...   \n",
       "4  DEPARTAMENTO CON FANTÁSTICA ILUMINACIÓN NATURA...   \n",
       "\n",
       "                                               title  \\\n",
       "0                 2 AMB TIPO CASA SIN EXPENSAS EN PB   \n",
       "1  VENTA Depto 2 dorm. a estrenar 7 e/ 36 y 37   ...   \n",
       "2           2 AMB 3ER PISO CON ASCENSOR APTO CREDITO   \n",
       "3                       PH 3 amb. cfte. reciclado      \n",
       "4  DEPTO 2 AMB AL CONTRAFRENTE ZONA CENTRO/PLAZA ...   \n",
       "\n",
       "                                     image_thumbnail  \n",
       "0  https://thumbs4.properati.com/8/BluUYiHJLhgIIK...  \n",
       "1  https://thumbs4.properati.com/7/ikpVBu2ztHA7jv...  \n",
       "2  https://thumbs4.properati.com/5/SXKr34F_IwG3W_...  \n",
       "3  https://thumbs4.properati.com/3/DgIfX-85Mog5SP...  \n",
       "4  https://thumbs4.properati.com/5/xrRqlNcSI_vs-f...  \n",
       "\n",
       "[5 rows x 26 columns]"
      ]
     },
     "execution_count": 4,
     "metadata": {},
     "output_type": "execute_result"
    }
   ],
   "source": [
    "raw_data.head(5)"
   ]
  },
  {
   "cell_type": "raw",
   "id": "2eab2a09",
   "metadata": {},
   "source": [
    "## Columnas\n",
    "\n",
    "● Unnamed: 0 :Esta columna hay que eliminarla siendo que es exactamente lo mismo que index\n",
    "● Fecha de creación: No existe esta columna \n",
    "● Expensas: expenses #88.23% de los datos son nulos. \n",
    "● Tipo de la propiedad (house, apartment, ph) : property_type #Se divide en apartament,house,PH y store. No tiene valores nulos.\n",
    "● Operación del aviso (sell, rent) : operation #todo sell. No tiene valores nulos\n",
    "● Nombre del lugar: place_name #Tiene 23 nulos que pueden ser encontrados en place_with_parent_names\n",
    "● Nombre del lugar + nombre de sus ‘padres’: place_with_parent_names #Se repiten varios valores. No hay nulos\n",
    "● ID de geonames del lugar (si está disponible): geonames_id #Se repiten varios datos y hay 15.44% de datos nulos\n",
    "● Latitud,Longitud: lat-lon #42.53% de los datos son nulos. No tiene valores repetidos\n",
    "Longitud: lon #Tiene 42.53% de los datos nulos. Hay valores repetidos. Pareceria que los datos faltantes son los mismos que en lat-lon\n",
    "Latitud: lon #Tiene 42.53% de los datos nulos. Hay valores repetidos. Pareceria que los datos faltantes son los mismos que en lat-lon\n",
    "● Precio original del aviso: price #16.84% de los datos son nulos. Hay outliers y valores en dolares y en pesos\n",
    "● Moneda original del aviso (ARS, USD): currency #USD(87587), ARS(13219),PEN(2),UYU(1) . \n",
    "● Precio del aviso en moneda local (ARS): price_aprox_local_currency #16.84% de los datos son nulos. Los valores van desde 80.000 a 800.000.000. Hay un valor que es 0.\n",
    "● Precio aproximado en USD: price_aprox_usd #16.84% de los datos son nulos. Los valores van desde 47.000.000 hasta 4.500. Hay un valor nulo. Chequear si las converciones son correctas.\n",
    "● Superficie en m²: surface_total_in_m2 #32.44% de los datos son nulos. 383 valores son 0. Los valores van desde 200.000 m2 a 10 m2\n",
    "● Superficie cubierta en m²: surface_covered_in_m2 #16,42% de los datos son nulos. Los valores van desde 187000 a 1. 2 valores son 0\n",
    "● Precio en USD/m²: price_usd_per_m2 #43.39% de los datos son nulos. Los valores van desde 206333 a 0.6\n",
    "● Precio por m²: price_per_m2 #27.69%  de los datos son nulos. Los valores van desde 1.51 a 4.000.000.\n",
    "● N° de piso, si corresponde: floor #93.48% de los datos son nulos. Los valores van de 3150 a 1 (Nose a que se refieren)\n",
    "● Ambientes: rooms #60.9% de los datos son nulos. Los valores van de 32 a 1.\n",
    "● URL en Properati: properati_url #No hay datos nulos. Todas las filas son distintas.\n",
    "● Descripción: description #0.0016 de los datos son nulos.\n",
    "● Título: title . No hay valores nulos. Hay información que se puede extraer para otras columnas en las que falte informacion.\n",
    "● URL de un thumbnail de la primer foto: image_thumbnail #2.57% de los datos son nulos.\n"
   ]
  },
  {
   "cell_type": "code",
   "execution_count": 5,
   "id": "f1b6794d",
   "metadata": {},
   "outputs": [
    {
     "data": {
      "text/plain": [
       "Index(['Unnamed: 0', 'operation', 'property_type', 'place_name',\n",
       "       'place_with_parent_names', 'country_name', 'state_name', 'geonames_id',\n",
       "       'lat-lon', 'lat', 'lon', 'price', 'currency',\n",
       "       'price_aprox_local_currency', 'price_aprox_usd', 'surface_total_in_m2',\n",
       "       'surface_covered_in_m2', 'price_usd_per_m2', 'price_per_m2', 'floor',\n",
       "       'rooms', 'expenses', 'properati_url', 'description', 'title',\n",
       "       'image_thumbnail'],\n",
       "      dtype='object')"
      ]
     },
     "execution_count": 5,
     "metadata": {},
     "output_type": "execute_result"
    }
   ],
   "source": [
    "raw_data.columns"
   ]
  },
  {
   "cell_type": "code",
   "execution_count": 6,
   "id": "b69ce1d9",
   "metadata": {},
   "outputs": [
    {
     "data": {
      "text/plain": [
       "Unnamed: 0                      int64\n",
       "operation                      object\n",
       "property_type                  object\n",
       "place_name                     object\n",
       "place_with_parent_names        object\n",
       "country_name                   object\n",
       "state_name                     object\n",
       "geonames_id                   float64\n",
       "lat-lon                        object\n",
       "lat                           float64\n",
       "lon                           float64\n",
       "price                         float64\n",
       "currency                       object\n",
       "price_aprox_local_currency    float64\n",
       "price_aprox_usd               float64\n",
       "surface_total_in_m2           float64\n",
       "surface_covered_in_m2         float64\n",
       "price_usd_per_m2              float64\n",
       "price_per_m2                  float64\n",
       "floor                         float64\n",
       "rooms                         float64\n",
       "expenses                      float64\n",
       "properati_url                  object\n",
       "description                    object\n",
       "title                          object\n",
       "image_thumbnail                object\n",
       "dtype: object"
      ]
     },
     "execution_count": 6,
     "metadata": {},
     "output_type": "execute_result"
    }
   ],
   "source": [
    "raw_data.dtypes"
   ]
  },
  {
   "cell_type": "code",
   "execution_count": 7,
   "id": "390864e0",
   "metadata": {},
   "outputs": [
    {
     "data": {
      "text/plain": [
       "True    121220\n",
       "dtype: int64"
      ]
     },
     "execution_count": 7,
     "metadata": {},
     "output_type": "execute_result"
    }
   ],
   "source": [
    "(raw_data['Unnamed: 0'] == raw_data.index).value_counts()\n",
    "#Esta columna hay que eliminarla siendo que es exactamente lo mismo que index"
   ]
  },
  {
   "cell_type": "code",
   "execution_count": 8,
   "id": "2a2ce7a6",
   "metadata": {},
   "outputs": [
    {
     "data": {
      "text/plain": [
       "sell    121220\n",
       "Name: operation, dtype: int64"
      ]
     },
     "execution_count": 8,
     "metadata": {},
     "output_type": "execute_result"
    }
   ],
   "source": [
    "raw_data['operation'].value_counts()\n",
    "#Dice todo sell, podria ser tambien eliminada"
   ]
  },
  {
   "cell_type": "code",
   "execution_count": 9,
   "id": "5ec00188",
   "metadata": {},
   "outputs": [
    {
     "data": {
      "text/plain": [
       "apartment    71065\n",
       "house        40268\n",
       "PH            5751\n",
       "store         4136\n",
       "Name: property_type, dtype: int64"
      ]
     },
     "execution_count": 9,
     "metadata": {},
     "output_type": "execute_result"
    }
   ],
   "source": [
    "raw_data['property_type'].value_counts()"
   ]
  },
  {
   "cell_type": "code",
   "execution_count": 10,
   "id": "1ae34dfc",
   "metadata": {},
   "outputs": [
    {
     "name": "stdout",
     "output_type": "stream",
     "text": [
      "True     446\n",
      "False    200\n",
      "Name: geonames_id, dtype: int64\n",
      "Nulos: 18717\n",
      "Porcentaje:15.440521366111204\n"
     ]
    }
   ],
   "source": [
    "print((raw_data['geonames_id'].value_counts() > 2).value_counts())\n",
    "#Almenos 446 datos se repiten mas de una vez.\n",
    "print(f'Nulos: {raw_data.geonames_id.isnull().sum()}')\n",
    "print(f'Porcentaje:{(raw_data.geonames_id.isnull().sum()/(raw_data.shape[0]))*100}')"
   ]
  },
  {
   "cell_type": "code",
   "execution_count": 11,
   "id": "96bc9b3f",
   "metadata": {},
   "outputs": [
    {
     "data": {
      "text/plain": [
       "23"
      ]
     },
     "execution_count": 11,
     "metadata": {},
     "output_type": "execute_result"
    }
   ],
   "source": [
    "(raw_data.place_name).isnull().sum()"
   ]
  },
  {
   "cell_type": "code",
   "execution_count": 12,
   "id": "5191d0ba",
   "metadata": {},
   "outputs": [
    {
     "name": "stdout",
     "output_type": "stream",
     "text": [
      "True     793\n",
      "False    371\n",
      "Name: place_with_parent_names, dtype: int64\n"
     ]
    },
    {
     "data": {
      "text/plain": [
       "0"
      ]
     },
     "execution_count": 12,
     "metadata": {},
     "output_type": "execute_result"
    }
   ],
   "source": [
    "print((raw_data.place_with_parent_names.value_counts() > 2).value_counts())\n",
    "raw_data.place_with_parent_names.isnull().sum()"
   ]
  },
  {
   "cell_type": "code",
   "execution_count": 13,
   "id": "0e19c4c1",
   "metadata": {},
   "outputs": [
    {
     "data": {
      "text/plain": [
       "42.52598581092229"
      ]
     },
     "execution_count": 13,
     "metadata": {},
     "output_type": "execute_result"
    }
   ],
   "source": [
    "(raw_data['lat-lon'].isnull().sum()/raw_data.shape[0])*100"
   ]
  },
  {
   "cell_type": "code",
   "execution_count": 14,
   "id": "241c0c23",
   "metadata": {},
   "outputs": [
    {
     "data": {
      "text/plain": [
       "42.52598581092229"
      ]
     },
     "execution_count": 14,
     "metadata": {},
     "output_type": "execute_result"
    }
   ],
   "source": [
    "(raw_data['lat'].isnull().sum()/raw_data.shape[0])*100"
   ]
  },
  {
   "cell_type": "code",
   "execution_count": 15,
   "id": "2864b0a5",
   "metadata": {},
   "outputs": [
    {
     "data": {
      "text/plain": [
       "42.52598581092229"
      ]
     },
     "execution_count": 15,
     "metadata": {},
     "output_type": "execute_result"
    }
   ],
   "source": [
    "(raw_data['lon'].isnull().sum()/raw_data.shape[0])*100"
   ]
  },
  {
   "cell_type": "code",
   "execution_count": 16,
   "id": "f62262c1",
   "metadata": {},
   "outputs": [
    {
     "data": {
      "text/plain": [
       "88.23461475004125"
      ]
     },
     "execution_count": 16,
     "metadata": {},
     "output_type": "execute_result"
    }
   ],
   "source": [
    "(raw_data['expenses'].isnull().sum()/raw_data.shape[0])*100"
   ]
  },
  {
   "cell_type": "code",
   "execution_count": 17,
   "id": "267ef794",
   "metadata": {},
   "outputs": [
    {
     "data": {
      "text/plain": [
       "16.837155584886982"
      ]
     },
     "execution_count": 17,
     "metadata": {},
     "output_type": "execute_result"
    }
   ],
   "source": [
    "(raw_data['price'].isnull().sum()/raw_data.shape[0])*100"
   ]
  },
  {
   "cell_type": "code",
   "execution_count": 18,
   "id": "5f30285b",
   "metadata": {},
   "outputs": [
    {
     "data": {
      "text/plain": [
       "107390    650000000.0\n",
       "65701      99999999.0\n",
       "91368      56500000.0\n",
       "64134      50000000.0\n",
       "64131      50000000.0\n",
       "Name: price, dtype: float64"
      ]
     },
     "execution_count": 18,
     "metadata": {},
     "output_type": "execute_result"
    }
   ],
   "source": [
    "raw_data.price.sort_values(ascending = False).head(5)"
   ]
  },
  {
   "cell_type": "code",
   "execution_count": 19,
   "id": "1b8b4356",
   "metadata": {},
   "outputs": [
    {
     "data": {
      "text/plain": [
       "USD    87587\n",
       "ARS    13219\n",
       "PEN        2\n",
       "UYU        1\n",
       "Name: currency, dtype: int64"
      ]
     },
     "execution_count": 19,
     "metadata": {},
     "output_type": "execute_result"
    }
   ],
   "source": [
    "raw_data.currency.value_counts()"
   ]
  },
  {
   "cell_type": "code",
   "execution_count": 20,
   "id": "02733bf0",
   "metadata": {},
   "outputs": [
    {
     "data": {
      "text/plain": [
       "16.83798053126547"
      ]
     },
     "execution_count": 20,
     "metadata": {},
     "output_type": "execute_result"
    }
   ],
   "source": [
    "(raw_data['currency'].isnull().sum()/raw_data.shape[0])*100"
   ]
  },
  {
   "cell_type": "code",
   "execution_count": 21,
   "id": "1f428717",
   "metadata": {},
   "outputs": [
    {
     "data": {
      "text/plain": [
       "16.837155584886982"
      ]
     },
     "execution_count": 21,
     "metadata": {},
     "output_type": "execute_result"
    }
   ],
   "source": [
    "(raw_data['price_aprox_local_currency'].isnull().sum()/raw_data.shape[0])*100\n"
   ]
  },
  {
   "cell_type": "code",
   "execution_count": 22,
   "id": "2f4c86cb",
   "metadata": {},
   "outputs": [
    {
     "data": {
      "text/plain": [
       "1"
      ]
     },
     "execution_count": 22,
     "metadata": {},
     "output_type": "execute_result"
    }
   ],
   "source": [
    "(raw_data['price_aprox_local_currency'] == 0).sum()"
   ]
  },
  {
   "cell_type": "code",
   "execution_count": 23,
   "id": "02bc82b6",
   "metadata": {},
   "outputs": [
    {
     "data": {
      "text/plain": [
       "16.837155584886982"
      ]
     },
     "execution_count": 23,
     "metadata": {},
     "output_type": "execute_result"
    }
   ],
   "source": [
    "(raw_data['price_aprox_usd'].isnull().sum()/raw_data.shape[0])*100\n"
   ]
  },
  {
   "cell_type": "code",
   "execution_count": 24,
   "id": "47e59fa4",
   "metadata": {},
   "outputs": [
    {
     "data": {
      "text/plain": [
       "32.44349117307375"
      ]
     },
     "execution_count": 24,
     "metadata": {},
     "output_type": "execute_result"
    }
   ],
   "source": [
    "(raw_data['surface_total_in_m2'].isnull().sum()/raw_data.shape[0])*100\n",
    "\n"
   ]
  },
  {
   "cell_type": "code",
   "execution_count": 25,
   "id": "57707094",
   "metadata": {},
   "outputs": [
    {
     "data": {
      "text/plain": [
       "21"
      ]
     },
     "execution_count": 25,
     "metadata": {},
     "output_type": "execute_result"
    }
   ],
   "source": [
    "(raw_data['surface_total_in_m2'] == 10).sum()"
   ]
  },
  {
   "cell_type": "code",
   "execution_count": 26,
   "id": "f3c2bf7a",
   "metadata": {},
   "outputs": [
    {
     "data": {
      "text/plain": [
       "16.422207556508827"
      ]
     },
     "execution_count": 26,
     "metadata": {},
     "output_type": "execute_result"
    }
   ],
   "source": [
    "(raw_data['surface_covered_in_m2'].isnull().sum()/raw_data.shape[0])*100\n",
    "\n"
   ]
  },
  {
   "cell_type": "code",
   "execution_count": 27,
   "id": "37589674",
   "metadata": {},
   "outputs": [
    {
     "data": {
      "text/plain": [
       "7949      0.0\n",
       "28938     0.0\n",
       "14469     1.0\n",
       "95490     1.0\n",
       "7107      1.0\n",
       "         ... \n",
       "121203    NaN\n",
       "121204    NaN\n",
       "121205    NaN\n",
       "121206    NaN\n",
       "121209    NaN\n",
       "Name: surface_covered_in_m2, Length: 121220, dtype: float64"
      ]
     },
     "execution_count": 27,
     "metadata": {},
     "output_type": "execute_result"
    }
   ],
   "source": [
    "raw_data['surface_covered_in_m2'].sort_values(ascending = True)"
   ]
  },
  {
   "cell_type": "code",
   "execution_count": 28,
   "id": "f31e5dc6",
   "metadata": {},
   "outputs": [
    {
     "data": {
      "text/plain": [
       "43.394654347467416"
      ]
     },
     "execution_count": 28,
     "metadata": {},
     "output_type": "execute_result"
    }
   ],
   "source": [
    "(raw_data['price_usd_per_m2'].isnull().sum()/raw_data.shape[0])*100"
   ]
  },
  {
   "cell_type": "code",
   "execution_count": 29,
   "id": "0989248e",
   "metadata": {},
   "outputs": [
    {
     "data": {
      "text/plain": [
       "27.686850354726943"
      ]
     },
     "execution_count": 29,
     "metadata": {},
     "output_type": "execute_result"
    }
   ],
   "source": [
    "(raw_data['price_per_m2'].isnull().sum()/raw_data.shape[0])*100\n"
   ]
  },
  {
   "cell_type": "code",
   "execution_count": 30,
   "id": "5e7f2f8e",
   "metadata": {},
   "outputs": [
    {
     "data": {
      "text/plain": [
       "39394     3150.0\n",
       "63248     2509.0\n",
       "60483     2177.0\n",
       "63257     2103.0\n",
       "28537     1609.0\n",
       "           ...  \n",
       "121215       NaN\n",
       "121216       NaN\n",
       "121217       NaN\n",
       "121218       NaN\n",
       "121219       NaN\n",
       "Name: floor, Length: 121220, dtype: float64"
      ]
     },
     "execution_count": 30,
     "metadata": {},
     "output_type": "execute_result"
    }
   ],
   "source": [
    "raw_data['floor'].sort_values(ascending = False)"
   ]
  },
  {
   "cell_type": "code",
   "execution_count": 31,
   "id": "c57c75cd",
   "metadata": {},
   "outputs": [
    {
     "data": {
      "text/plain": [
       "45552     32.0\n",
       "55272     32.0\n",
       "56540     32.0\n",
       "114642    31.0\n",
       "111578    30.0\n",
       "          ... \n",
       "121215     NaN\n",
       "121216     NaN\n",
       "121217     NaN\n",
       "121218     NaN\n",
       "121219     NaN\n",
       "Name: rooms, Length: 121220, dtype: float64"
      ]
     },
     "execution_count": 31,
     "metadata": {},
     "output_type": "execute_result"
    }
   ],
   "source": [
    "raw_data['rooms'].sort_values(ascending = False)"
   ]
  },
  {
   "cell_type": "code",
   "execution_count": 32,
   "id": "92dce6e1",
   "metadata": {},
   "outputs": [
    {
     "data": {
      "text/plain": [
       "0.0"
      ]
     },
     "execution_count": 32,
     "metadata": {},
     "output_type": "execute_result"
    }
   ],
   "source": [
    "(raw_data['title'].isnull().sum()/raw_data.shape[0])*100\n"
   ]
  },
  {
   "cell_type": "code",
   "execution_count": 33,
   "id": "74712a88",
   "metadata": {},
   "outputs": [
    {
     "data": {
      "text/plain": [
       "0"
      ]
     },
     "execution_count": 33,
     "metadata": {},
     "output_type": "execute_result"
    }
   ],
   "source": [
    "(raw_data['description'] == \"\").sum()"
   ]
  },
  {
   "cell_type": "code",
   "execution_count": 34,
   "id": "78fb33be",
   "metadata": {},
   "outputs": [
    {
     "data": {
      "text/plain": [
       "DEPARTAMENTO EN VENTA                                       4855\n",
       "CASA EN VENTA                                               2677\n",
       "Departamento - Nueva Cordoba                                1003\n",
       "PH EN VENTA                                                  921\n",
       "Departamento - Centro                                        685\n",
       "                                                            ... \n",
       "Duplex en Venta Ramos Mejia / La Matanza (A141 2746)           1\n",
       "Casa  en Venta Ramos Mejia / La Matanza (A141 2747)            1\n",
       "Departamento en Venta Valentin Alsina / Lanus (A154 591)       1\n",
       "Triplex en Ambos V/A San Justo / La Matanza (A155 938)         1\n",
       "Departamento apto profesional en el Centro                     1\n",
       "Name: title, Length: 72705, dtype: int64"
      ]
     },
     "execution_count": 34,
     "metadata": {},
     "output_type": "execute_result"
    }
   ],
   "source": [
    "raw_data['title'].value_counts()"
   ]
  },
  {
   "cell_type": "code",
   "execution_count": 35,
   "id": "3616f7e3",
   "metadata": {},
   "outputs": [
    {
     "data": {
      "text/plain": [
       "2.56723312984656"
      ]
     },
     "execution_count": 35,
     "metadata": {},
     "output_type": "execute_result"
    }
   ],
   "source": [
    "(raw_data['image_thumbnail'].isnull().sum()/raw_data.shape[0])*100\n"
   ]
  },
  {
   "cell_type": "code",
   "execution_count": null,
   "id": "5db37a6f",
   "metadata": {},
   "outputs": [],
   "source": []
  },
  {
   "cell_type": "code",
   "execution_count": 37,
   "id": "36deaf00",
   "metadata": {},
   "outputs": [
    {
     "data": {
      "text/plain": [
       "|Argentina|Bs.As. G.B.A. Zona Norte|Tigre||    23\n",
       "Name: place_with_parent_names, dtype: int64"
      ]
     },
     "execution_count": 37,
     "metadata": {},
     "output_type": "execute_result"
    }
   ],
   "source": [
    "place_name_null_mask = raw_data['place_name'].isnull()\n",
    "raw_data.loc[place_name_null_mask, 'place_with_parent_names'].value_counts()"
   ]
  },
  {
   "cell_type": "code",
   "execution_count": null,
   "id": "2cf8c78a",
   "metadata": {},
   "outputs": [],
   "source": []
  }
 ],
 "metadata": {
  "kernelspec": {
   "display_name": "Python [conda env:.conda-dhdsblend2021_geopandas]",
   "language": "python",
   "name": "conda-env-.conda-dhdsblend2021_geopandas-py"
  },
  "language_info": {
   "codemirror_mode": {
    "name": "ipython",
    "version": 3
   },
   "file_extension": ".py",
   "mimetype": "text/x-python",
   "name": "python",
   "nbconvert_exporter": "python",
   "pygments_lexer": "ipython3",
   "version": "3.7.13"
  }
 },
 "nbformat": 4,
 "nbformat_minor": 5
}
